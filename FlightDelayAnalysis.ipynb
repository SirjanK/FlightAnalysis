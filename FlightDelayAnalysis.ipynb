{
 "cells": [
  {
   "cell_type": "markdown",
   "id": "4c0fb0c6-760a-46e6-839d-c9af369228c4",
   "metadata": {},
   "source": [
    "# Flight Delay Analysis"
   ]
  },
  {
   "cell_type": "code",
   "execution_count": null,
   "id": "89a88851-c6b5-4475-9e43-fb322d5ef17b",
   "metadata": {},
   "outputs": [],
   "source": [
    "import pandas as pd\n",
    "import numpy as np\n",
    "import matplotlib.pyplot as plt\n",
    "import glob\n",
    "import os\n",
    "from typing import Optional\n",
    "%matplotlib inline"
   ]
  },
  {
   "cell_type": "code",
   "execution_count": null,
   "id": "d6a3f66a-3763-404e-add3-cb76525989a3",
   "metadata": {},
   "outputs": [],
   "source": [
    "# load data\n",
    "path = 'notebook_data/*.csv'\n",
    "\n",
    "# Use glob to get all CSV file paths\n",
    "all_files = glob.glob(path)\n",
    "\n",
    "# Read and concatenate all CSV files into a single DataFrame\n",
    "df = pd.concat((pd.read_csv(f) for f in all_files), ignore_index=True)"
   ]
  },
  {
   "cell_type": "code",
   "execution_count": null,
   "id": "0bfa119d-4a5c-48eb-a491-8c90fc83f3f9",
   "metadata": {},
   "outputs": [],
   "source": [
    "df.head(10)"
   ]
  },
  {
   "cell_type": "code",
   "execution_count": null,
   "id": "b99d541b-c849-4c3d-83ac-89f13cc8c339",
   "metadata": {},
   "outputs": [],
   "source": [
    "df[df[\"ORIGIN_CITY_NAME\"] == \"Milwaukee, WI\"]"
   ]
  },
  {
   "cell_type": "code",
   "execution_count": null,
   "id": "4ef36634-1526-4e55-8a90-063245882b04",
   "metadata": {},
   "outputs": [],
   "source": [
    "df[(df[\"ORIGIN_CITY_NAME\"] == \"Milwaukee, WI\") & (df[\"DAY_OF_MONTH\"] == 24)]"
   ]
  },
  {
   "cell_type": "code",
   "execution_count": null,
   "id": "be105cdf-7366-44ac-a821-9ebb2d5a31ef",
   "metadata": {},
   "outputs": [],
   "source": [
    "# plot the number of flights by day\n",
    "def get_num_flights(day, city):\n",
    "    return len(df[(df[\"ORIGIN_CITY_NAME\"] == city) & (df[\"DAY_OF_MONTH\"] == day)])"
   ]
  },
  {
   "cell_type": "code",
   "execution_count": null,
   "id": "78bebc8b-eee6-4e71-b858-cd7c8f1d7cfa",
   "metadata": {},
   "outputs": [],
   "source": [
    "cities = ['Milwaukee, WI', 'San Diego, CA', 'San Francisco, CA']\n",
    "\n",
    "for city in cities:\n",
    "    days = range(1, 32)\n",
    "    num_flights = [get_num_flights(day, city) for day in days]\n",
    "    \n",
    "    plt.figure(figsize=(12, 6))\n",
    "    plt.plot(days, num_flights, 'b-', label='Number of Flights')\n",
    "\n",
    "    # Mark day 24 with a red dot\n",
    "    plt.plot(24, get_num_flights(24, city), 'ro', markersize=10, label='XMas Eve')\n",
    "\n",
    "    # Customize the plot\n",
    "    plt.title(f'Number of Flights by Day of Month {city} December 2018-2023', fontsize=16)\n",
    "    plt.xlabel('Day of Month', fontsize=12)\n",
    "    plt.ylabel('Number of Flights', fontsize=12)\n",
    "    plt.grid(True, linestyle='--', alpha=0.7)\n",
    "    plt.legend()\n",
    "\n",
    "    # Set x-axis ticks to show all days\n",
    "    plt.xticks(days)\n",
    "\n",
    "    # Show the plot\n",
    "    plt.tight_layout()\n",
    "    plt.show()"
   ]
  },
  {
   "cell_type": "code",
   "execution_count": null,
   "id": "16a735e3-6e55-4576-afa0-9b9f178a88df",
   "metadata": {},
   "outputs": [],
   "source": [
    "def compute_delay_probability_with_cancellation(filtered_df, delay, city):\n",
    "    filtered_df = filtered_df[filtered_df[\"ORIGIN_CITY_NAME\"] == city]\n",
    "    num_delayed_or_cancelled = len(filtered_df[(filtered_df[\"ARR_DELAY\"] >= delay) | (filtered_df[\"CANCELLED\"] == True) | (filtered_df[\"DIVERTED\"] == True)])\n",
    "    return num_delayed_or_cancelled / len(filtered_df)"
   ]
  },
  {
   "cell_type": "code",
   "execution_count": null,
   "id": "c2624cd6-9dc8-41d0-a547-e3e31cb58f5d",
   "metadata": {},
   "outputs": [],
   "source": [
    "def compute_delay_probability_without_cancellation(filtered_df, delay, city):\n",
    "    filtered_df = filtered_df[filtered_df[\"ORIGIN_CITY_NAME\"] == city]\n",
    "    not_cancelled = filtered_df[(filtered_df[\"CANCELLED\"] == False) & (filtered_df[\"DIVERTED\"] == False)]\n",
    "    num_delayed = len(not_cancelled[(not_cancelled[\"ARR_DELAY\"] >= delay)])\n",
    "    return num_delayed / len(not_cancelled)"
   ]
  },
  {
   "cell_type": "code",
   "execution_count": null,
   "id": "4b3f98d7-cad5-44e3-b98c-150fe775c21b",
   "metadata": {},
   "outputs": [],
   "source": [
    "cities = ['Milwaukee, WI', 'San Diego, CA', 'San Francisco, CA']\n",
    "\n",
    "for city in cities:\n",
    "    filtered_df = df[df[\"ORIGIN_CITY_NAME\"] == city]\n",
    "    xmas_eve_df = filtered_df[filtered_df[\"DAY_OF_MONTH\"] == 24]\n",
    "    max_delay = 250  # override\n",
    "\n",
    "    delays = np.arange(0, max_delay + 1)\n",
    "\n",
    "    december_probabilities = [compute_delay_probability_without_cancellation(filtered_df, delay, city) for delay in delays]\n",
    "    xmas_eve_probabilities = [compute_delay_probability_without_cancellation(xmas_eve_df, delay, city) for delay in delays]\n",
    "\n",
    "    plt.figure(figsize=(14, 7))\n",
    "\n",
    "    plt.plot(delays, december_probabilities, 'b-', label='December')\n",
    "    plt.plot(delays, xmas_eve_probabilities, 'r-', label='Xmas Eve')\n",
    "\n",
    "    december_prob_1h = december_probabilities[60]\n",
    "    xmas_eve_prob_1h = xmas_eve_probabilities[60]\n",
    "\n",
    "    plt.axhline(y=december_prob_1h, color='b', linestyle=':', xmin=0)\n",
    "    plt.axhline(y=xmas_eve_prob_1h, color='r', linestyle=':', xmin=0)\n",
    "\n",
    "    plt.plot(60, december_prob_1h, 'bo', markersize=8)\n",
    "    plt.plot(60, xmas_eve_prob_1h, 'ro', markersize=8)\n",
    "\n",
    "    plt.annotate(f'{december_prob_1h:.2%}', (60, december_prob_1h), xytext=(0, 10), \n",
    "                 textcoords='offset points', ha='center', va='bottom', color='b')\n",
    "    plt.annotate(f'{xmas_eve_prob_1h:.2%}', (60, xmas_eve_prob_1h), xytext=(0, 10), \n",
    "                 textcoords='offset points', ha='center', va='bottom', color='r')\n",
    "\n",
    "    plt.title(f'Delay Probability (without Cancellations) vs. Delay Duration {city} 2018-2023', fontsize=16)\n",
    "    plt.xlabel('Delay (hours:minutes)', fontsize=12)\n",
    "    plt.ylabel('Probability', fontsize=12)\n",
    "    plt.grid(True, linestyle='--', alpha=0.7)\n",
    "\n",
    "    plt.ylim(0, 0.5)\n",
    "    plt.yticks(np.arange(0, 0.51, 0.1))\n",
    "    plt.gca().yaxis.set_major_formatter(plt.FuncFormatter(lambda y, _: '{:.0%}'.format(y)))\n",
    "\n",
    "    plt.legend(fontsize=10)\n",
    "\n",
    "    def format_time(x, pos):\n",
    "        hours = int(x // 60)\n",
    "        minutes = int(x % 60)\n",
    "        return f'{hours:02d}:{minutes:02d}'\n",
    "\n",
    "    plt.gca().xaxis.set_major_formatter(plt.FuncFormatter(format_time))\n",
    "    plt.xticks(np.arange(0, max_delay + 1, 30), rotation=45)\n",
    "\n",
    "    plt.xlim(0, max_delay * 1.05)\n",
    "\n",
    "    plt.tight_layout()\n",
    "    plt.show()"
   ]
  },
  {
   "cell_type": "markdown",
   "id": "95b61604-5b43-403a-81d6-9c78e139a904",
   "metadata": {},
   "source": [
    "## Analysis on Full Data\n",
    "We load the full data and investigate distributions of delays conditioned on various variables. Our goal is to find a generalized parameterized model for the delay distribution so that we can store the parameters for this model for each conditional.\n",
    "\n",
    "First, we look to prune the raw data (columns and rows) to what we minimally need. This logic will be ported to a file to cache pruned data. Then, we carry out analysis on the resulting df."
   ]
  },
  {
   "cell_type": "code",
   "execution_count": null,
   "id": "a3fc03c7",
   "metadata": {},
   "outputs": [],
   "source": [
    "data_dir = \"data/\""
   ]
  },
  {
   "cell_type": "code",
   "execution_count": null,
   "id": "1dfc01fd",
   "metadata": {},
   "outputs": [],
   "source": [
    "# read data frame from all csv files in the data_dir\n",
    "def read_data(data_dir):\n",
    "    path = os.path.join(data_dir, '*.csv')\n",
    "    all_files = glob.glob(path)\n",
    "    return pd.concat((pd.read_csv(f) for f in all_files), ignore_index=True)"
   ]
  },
  {
   "cell_type": "code",
   "execution_count": null,
   "id": "27dbb8b1",
   "metadata": {},
   "outputs": [],
   "source": [
    "df = read_data(data_dir)"
   ]
  },
  {
   "cell_type": "code",
   "execution_count": null,
   "id": "3dc3bd3d",
   "metadata": {},
   "outputs": [],
   "source": [
    "df.head(10)"
   ]
  },
  {
   "cell_type": "code",
   "execution_count": null,
   "id": "e8cd713c",
   "metadata": {},
   "outputs": [],
   "source": [
    "# add a new column bucketing the departure time into morning, afternoon, evening, and night\n",
    "# range left inclusive, right exclusive\n",
    "BUCKETS = {\n",
    "    'morning': (600, 1200),\n",
    "    'afternoon': (1200, 1800),\n",
    "    'evening': (1800, 2400),\n",
    "    'night': (0, 600),\n",
    "}\n",
    "\n",
    "def get_bucket(hour: Optional[float]) -> Optional[str]:\n",
    "    if hour is None:\n",
    "        return None\n",
    "    for bucket, (start, end) in BUCKETS.items():\n",
    "        if start <= hour < end:\n",
    "            return bucket\n",
    "\n",
    "df['DEP_TIME_BUCKET'] = df['CRS_DEP_TIME'].apply(get_bucket)"
   ]
  },
  {
   "cell_type": "code",
   "execution_count": null,
   "id": "fd72bcd2",
   "metadata": {},
   "outputs": [],
   "source": [
    "df.head(10)"
   ]
  },
  {
   "cell_type": "code",
   "execution_count": null,
   "id": "ca2684cc",
   "metadata": {},
   "outputs": [],
   "source": [
    "# filter out any cancelled or diverted flights\n",
    "filtered_df = df[(df['CANCELLED'] == 0) & (df['DIVERTED'] == 0)]"
   ]
  },
  {
   "cell_type": "code",
   "execution_count": null,
   "id": "45ed1857",
   "metadata": {},
   "outputs": [],
   "source": [
    "len(filtered_df)"
   ]
  },
  {
   "cell_type": "code",
   "execution_count": null,
   "id": "02732697",
   "metadata": {},
   "outputs": [],
   "source": [
    "# only keep the columns we need\n",
    "columns_needed = [\n",
    "    'OP_CARRIER_AIRLINE_ID',\n",
    "    'ORIGIN_AIRPORT_ID',\n",
    "    'DEST_AIRPORT_ID',\n",
    "    'DEP_TIME_BUCKET',\n",
    "    'ARR_DELAY',\n",
    "]\n",
    "\n",
    "filtered_df = filtered_df[columns_needed]"
   ]
  },
  {
   "cell_type": "code",
   "execution_count": null,
   "id": "8538a0cb",
   "metadata": {},
   "outputs": [],
   "source": [
    "filtered_df.head(10)"
   ]
  },
  {
   "cell_type": "code",
   "execution_count": null,
   "id": "9071cacc",
   "metadata": {},
   "outputs": [],
   "source": [
    "# filter out any rows with missing values\n",
    "filtered_df = filtered_df.dropna()\n",
    "len(filtered_df)"
   ]
  },
  {
   "cell_type": "code",
   "execution_count": null,
   "id": "1f9f3d4d",
   "metadata": {},
   "outputs": [],
   "source": [
    "# cast the OP_CARRIER_AIRLINE_ID to int\n",
    "filtered_df['OP_CARRIER_AIRLINE_ID'] = filtered_df['OP_CARRIER_AIRLINE_ID'].astype(int)"
   ]
  },
  {
   "cell_type": "code",
   "execution_count": null,
   "id": "b6d8284e",
   "metadata": {},
   "outputs": [],
   "source": [
    "filtered_df.head(10)"
   ]
  },
  {
   "cell_type": "code",
   "execution_count": null,
   "id": "7b475739",
   "metadata": {},
   "outputs": [],
   "source": [
    "# group by col and gather counts. Order by greatest to least\n",
    "COL = 'DEP_TIME_BUCKET'\n",
    "counts = filtered_df.groupby(COL).size().sort_values(ascending=False)\n",
    "len(counts)"
   ]
  },
  {
   "cell_type": "code",
   "execution_count": null,
   "id": "9303c742",
   "metadata": {},
   "outputs": [],
   "source": [
    "counts"
   ]
  },
  {
   "cell_type": "code",
   "execution_count": null,
   "id": "7d37c479",
   "metadata": {},
   "outputs": [],
   "source": [
    "SINGLE_CONDITIONAL_FILTER = 200\n",
    "# group by orig airport id and gather counts. filter out any airports with less than 200 flights\n",
    "orig_airport_counts = filtered_df.groupby('ORIGIN_AIRPORT_ID').size()\n",
    "filtered_orig_airport_counts = orig_airport_counts[orig_airport_counts >= SINGLE_CONDITIONAL_FILTER]\n",
    "filtered_df = filtered_df[filtered_df['ORIGIN_AIRPORT_ID'].isin(filtered_orig_airport_counts.index)]"
   ]
  },
  {
   "cell_type": "code",
   "execution_count": null,
   "id": "915c4a6b",
   "metadata": {},
   "outputs": [],
   "source": [
    "len(filtered_df)"
   ]
  },
  {
   "cell_type": "code",
   "execution_count": null,
   "id": "4518cd4a",
   "metadata": {},
   "outputs": [],
   "source": [
    "# do the same for destination airport\n",
    "dest_airport_counts = filtered_df.groupby('DEST_AIRPORT_ID').size()\n",
    "filtered_dest_airport_counts = dest_airport_counts[dest_airport_counts >= SINGLE_CONDITIONAL_FILTER]\n",
    "filtered_df = filtered_df[filtered_df['DEST_AIRPORT_ID'].isin(filtered_dest_airport_counts.index)]"
   ]
  },
  {
   "cell_type": "code",
   "execution_count": null,
   "id": "7831ddde",
   "metadata": {},
   "outputs": [],
   "source": [
    "len(filtered_df)"
   ]
  },
  {
   "cell_type": "markdown",
   "id": "ddb96780",
   "metadata": {},
   "source": [
    "### Analysis\n",
    "All above filtering logic done, we can now do analysis on this data frame!"
   ]
  },
  {
   "cell_type": "code",
   "execution_count": null,
   "id": "0fd933fb",
   "metadata": {},
   "outputs": [],
   "source": [
    "# re-index based on the first four columns for quick indexing later\n",
    "CONDITIONAL_COLUMNS = [\n",
    "    'OP_CARRIER_AIRLINE_ID',\n",
    "    'ORIGIN_AIRPORT_ID',\n",
    "    'DEST_AIRPORT_ID',\n",
    "    'DEP_TIME_BUCKET',\n",
    "]\n",
    "df = filtered_df.set_index(CONDITIONAL_COLUMNS)"
   ]
  },
  {
   "cell_type": "code",
   "execution_count": null,
   "id": "a8ccae5f",
   "metadata": {},
   "outputs": [],
   "source": [
    "DELAY_COLUMN = 'ARR_DELAY'"
   ]
  },
  {
   "cell_type": "code",
   "execution_count": null,
   "id": "5e348b56",
   "metadata": {},
   "outputs": [],
   "source": [
    "# Group by the conditional columns and gather counts\n",
    "grouped = df.groupby(CONDITIONAL_COLUMNS).size()\n",
    "len(grouped)"
   ]
  },
  {
   "cell_type": "code",
   "execution_count": null,
   "id": "f5fa5771",
   "metadata": {},
   "outputs": [],
   "source": [
    "# plot the distribution of counts in grouped\n",
    "plt.figure(figsize=(12, 6))\n",
    "plt.hist(grouped, bins=50, color='b', alpha=0.7)\n",
    "plt.title('Distribution of Flight Counts by Group', fontsize=16)\n",
    "plt.xlabel('Number of Flights', fontsize=12)\n",
    "plt.ylabel('Frequency', fontsize=12)"
   ]
  },
  {
   "cell_type": "code",
   "execution_count": null,
   "id": "854b1f69",
   "metadata": {},
   "outputs": [],
   "source": [
    "# figure out how many have size > 200\n",
    "grouped[grouped > 200]"
   ]
  },
  {
   "cell_type": "code",
   "execution_count": null,
   "id": "3fa3ac82",
   "metadata": {},
   "outputs": [],
   "source": [
    "# get the top 5 groups\n",
    "top_groups = grouped[grouped > 200].sort_values(ascending=False).head(5)\n",
    "top_groups"
   ]
  },
  {
   "cell_type": "code",
   "execution_count": null,
   "id": "180f1fb3",
   "metadata": {},
   "outputs": [],
   "source": [
    "df.groupby(['OP_CARRIER_AIRLINE_ID', 'ORIGIN_AIRPORT_ID', 'DEST_AIRPORT_ID']).size().sort_values(ascending=False).head(5)"
   ]
  },
  {
   "cell_type": "code",
   "execution_count": null,
   "id": "59d61fa0",
   "metadata": {},
   "outputs": [],
   "source": [
    "df.groupby(['ORIGIN_AIRPORT_ID', 'DEST_AIRPORT_ID']).size().sort_values(ascending=False).head(5)"
   ]
  },
  {
   "cell_type": "code",
   "execution_count": null,
   "id": "ae6293db",
   "metadata": {},
   "outputs": [],
   "source": [
    "# filter for the to group from top_groups and plot the distribution of delays\n",
    "top_group = top_groups.index[0]\n",
    "top_group_df = df.loc[top_group]\n",
    "plt.figure(figsize=(12, 6))\n",
    "plt.hist(top_group_df[DELAY_COLUMN], bins=50, color='b', alpha=0.7, density=True)\n",
    "plt.title(f\"Distribution of Delays for Top Group: {top_group}\", fontsize=16)\n",
    "plt.xlabel('Delay (minutes)', fontsize=12)\n",
    "plt.ylabel('Density', fontsize=12)"
   ]
  },
  {
   "cell_type": "code",
   "execution_count": null,
   "id": "10e1110a",
   "metadata": {},
   "outputs": [],
   "source": [
    "top_group_df[top_group_df[DELAY_COLUMN] > 0].shape[0] / top_group_df.shape[0]"
   ]
  },
  {
   "cell_type": "code",
   "execution_count": null,
   "id": "e5e8b7ba",
   "metadata": {},
   "outputs": [],
   "source": [
    "filtered_df = top_group_df[top_group_df[DELAY_COLUMN] > 0]\n",
    "plt.figure(figsize=(12, 6))\n",
    "plt.hist(filtered_df[DELAY_COLUMN], bins=50, color='b', alpha=0.7, density=True)\n",
    "plt.title(f\"Distribution of Delays for Top Group: {top_group}\", fontsize=16)\n",
    "plt.xlabel('Delay (minutes)', fontsize=12)\n",
    "plt.ylabel('Density', fontsize=12)"
   ]
  },
  {
   "cell_type": "code",
   "execution_count": null,
   "id": "79b54cad",
   "metadata": {},
   "outputs": [],
   "source": []
  },
  {
   "cell_type": "code",
   "execution_count": null,
   "id": "1e79383e",
   "metadata": {},
   "outputs": [],
   "source": []
  },
  {
   "cell_type": "code",
   "execution_count": null,
   "id": "bf879679",
   "metadata": {},
   "outputs": [],
   "source": []
  },
  {
   "cell_type": "code",
   "execution_count": null,
   "id": "94b50b23",
   "metadata": {},
   "outputs": [],
   "source": [
    "# load lookup tables for airport\n",
    "AIRPORT_LOOKUP_FILE = os.path.join('stored_data', 'lookup', 'L_AIRPORT_ID.csv')\n",
    "\n",
    "# read the airport lookup table\n",
    "airport_codes = pd.read_csv(AIRPORT_LOOKUP_FILE)\n",
    "airport_codes.head(5)"
   ]
  },
  {
   "cell_type": "code",
   "execution_count": null,
   "id": "343e4dcd",
   "metadata": {},
   "outputs": [],
   "source": [
    "airport_codes = airport_codes.set_index('Code')"
   ]
  },
  {
   "cell_type": "code",
   "execution_count": null,
   "id": "9d620a32",
   "metadata": {},
   "outputs": [],
   "source": [
    "travel_counts = df.groupby(['ORIGIN_AIRPORT_ID', 'DEST_AIRPORT_ID']).size().sort_values(ascending=False)\n",
    "\n",
    "# get top 50 travel counts\n",
    "top_travel_counts = travel_counts.head(50)\n",
    "\n",
    "# get the airport description for each origin and dest airport id in top_travel_counts\n",
    "top_travel_counts = top_travel_counts.reset_index()\n",
    "top_travel_counts['ORIGIN_AIRPORT'] = top_travel_counts['ORIGIN_AIRPORT_ID'].map(airport_codes['Description'])\n",
    "top_travel_counts['DEST_AIRPORT'] = top_travel_counts['DEST_AIRPORT_ID'].map(airport_codes['Description'])\n",
    "\n",
    "top_travel_counts = top_travel_counts.drop(columns=[\"ORIGIN_AIRPORT_ID\", \"DEST_AIRPORT_ID\"])\n",
    "top_travel_counts\n"
   ]
  },
  {
   "cell_type": "code",
   "execution_count": null,
   "id": "e52468ff",
   "metadata": {},
   "outputs": [],
   "source": []
  }
 ],
 "metadata": {
  "kernelspec": {
   "display_name": "Python 3 (ipykernel)",
   "language": "python",
   "name": "python3"
  },
  "language_info": {
   "codemirror_mode": {
    "name": "ipython",
    "version": 3
   },
   "file_extension": ".py",
   "mimetype": "text/x-python",
   "name": "python",
   "nbconvert_exporter": "python",
   "pygments_lexer": "ipython3",
   "version": "3.11.11"
  }
 },
 "nbformat": 4,
 "nbformat_minor": 5
}
